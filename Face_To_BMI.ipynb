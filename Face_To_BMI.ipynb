{
  "nbformat": 4,
  "nbformat_minor": 0,
  "metadata": {
    "colab": {
      "name": "Face-To-BMI.ipynb",
      "provenance": [],
      "toc_visible": true,
      "authorship_tag": "ABX9TyMlVwGMxfUTLIu8WXPVBNRe",
      "include_colab_link": true
    },
    "kernelspec": {
      "name": "python3",
      "display_name": "Python 3"
    }
  },
  "cells": [
    {
      "cell_type": "markdown",
      "metadata": {
        "id": "view-in-github",
        "colab_type": "text"
      },
      "source": [
        "<a href=\"https://colab.research.google.com/github/ceccaroni1884368/Face-to-BMI/blob/main/Face_To_BMI.ipynb\" target=\"_parent\"><img src=\"https://colab.research.google.com/assets/colab-badge.svg\" alt=\"Open In Colab\"/></a>"
      ]
    },
    {
      "cell_type": "code",
      "metadata": {
        "colab": {
          "base_uri": "https://localhost:8080/"
        },
        "id": "VFAmqbeUxxUr",
        "outputId": "abaf3c55-46c0-4c8c-ba6b-262b88df3ea4"
      },
      "source": [
        "! pip install autocrop -q\r\n",
        "! pip install facenet-pytorch -q"
      ],
      "execution_count": 1,
      "outputs": [
        {
          "output_type": "stream",
          "text": [
            "\u001b[?25l\r\u001b[K     |██                              | 10kB 24.6MB/s eta 0:00:01\r\u001b[K     |████                            | 20kB 31.2MB/s eta 0:00:01\r\u001b[K     |██████▏                         | 30kB 20.4MB/s eta 0:00:01\r\u001b[K     |████████▏                       | 40kB 15.2MB/s eta 0:00:01\r\u001b[K     |██████████▎                     | 51kB 16.3MB/s eta 0:00:01\r\u001b[K     |████████████▎                   | 61kB 14.4MB/s eta 0:00:01\r\u001b[K     |██████████████▍                 | 71kB 13.3MB/s eta 0:00:01\r\u001b[K     |████████████████▍               | 81kB 13.5MB/s eta 0:00:01\r\u001b[K     |██████████████████▌             | 92kB 12.5MB/s eta 0:00:01\r\u001b[K     |████████████████████▌           | 102kB 12.5MB/s eta 0:00:01\r\u001b[K     |██████████████████████▋         | 112kB 12.5MB/s eta 0:00:01\r\u001b[K     |████████████████████████▋       | 122kB 12.5MB/s eta 0:00:01\r\u001b[K     |██████████████████████████▊     | 133kB 12.5MB/s eta 0:00:01\r\u001b[K     |████████████████████████████▊   | 143kB 12.5MB/s eta 0:00:01\r\u001b[K     |██████████████████████████████▉ | 153kB 12.5MB/s eta 0:00:01\r\u001b[K     |████████████████████████████████| 163kB 12.5MB/s \n",
            "\u001b[?25h  Building wheel for autocrop (setup.py) ... \u001b[?25l\u001b[?25hdone\n",
            "\u001b[K     |████████████████████████████████| 1.9MB 8.6MB/s \n",
            "\u001b[?25h"
          ],
          "name": "stdout"
        }
      ]
    },
    {
      "cell_type": "code",
      "metadata": {
        "id": "i6xCgy9DxiLZ"
      },
      "source": [
        "import os\r\n",
        "from bs4 import BeautifulSoup\r\n",
        "import requests\r\n",
        "import autocrop\r\n",
        "from tqdm import tqdm\r\n",
        "import pandas as pd\r\n",
        "import shutil\r\n",
        "from PIL import Image\r\n",
        "import matplotlib.pyplot as plt\r\n",
        "import autocrop\r\n",
        "import torch\r\n",
        "from facenet_pytorch import MTCNN, InceptionResnetV1"
      ],
      "execution_count": 2,
      "outputs": []
    },
    {
      "cell_type": "markdown",
      "metadata": {
        "id": "9sA3PVFWxln-"
      },
      "source": [
        "# Dataset"
      ]
    },
    {
      "cell_type": "code",
      "metadata": {
        "id": "eZV47HVBxuaR"
      },
      "source": [
        "with open(os.path.join('.', 'pages_list.txt')) as f:\r\n",
        "    pages_list = f.read().splitlines()\r\n",
        "\r\n",
        "output_dir = os.path.join('.', 'dataset')\r\n",
        "if not os.path.exists(output_dir):\r\n",
        "    os.makedirs(output_dir)"
      ],
      "execution_count": 3,
      "outputs": []
    },
    {
      "cell_type": "code",
      "metadata": {
        "colab": {
          "base_uri": "https://localhost:8080/"
        },
        "id": "NgOltRGPx_hP",
        "outputId": "726d542c-ccbc-4797-e228-e7b916794477"
      },
      "source": [
        "images = []\r\n",
        "heights = []\r\n",
        "weights = []\r\n",
        "\r\n",
        "for i in tqdm(range(len(pages_list))):\r\n",
        "    html_page = requests.get(pages_list[i])\r\n",
        "    soup = BeautifulSoup(html_page.text, \"html.parser\")\r\n",
        "\r\n",
        "    # image\r\n",
        "    for x in soup.findAll('img'):\r\n",
        "        if '.jpg' in x['src']:\r\n",
        "            images.append(x['src'])\r\n",
        "            break\r\n",
        "\r\n",
        "    # height and weight\r\n",
        "    h = False\r\n",
        "    w = False\r\n",
        "    for x in soup.findAll('td'):\r\n",
        "        if h:\r\n",
        "            heights.append(float(x.text.split()[0]))\r\n",
        "        if w:\r\n",
        "            weights.append(float(x.text.split()[0]))\r\n",
        "\r\n",
        "        if 'Height' in x.text:\r\n",
        "            h = True\r\n",
        "            w = False \r\n",
        "        elif 'Weight' in x.text:\r\n",
        "            h = False\r\n",
        "            w = True\r\n",
        "        else:\r\n",
        "            h = False\r\n",
        "            w = False\r\n",
        "            \r\n",
        "    l = min([len(images), len(heights), len(weights)])\r\n",
        "    images = images[:l]\r\n",
        "    heights = heights[:l]\r\n",
        "    weights = weights[:l]"
      ],
      "execution_count": null,
      "outputs": [
        {
          "output_type": "stream",
          "text": [
            " 83%|████████▎ | 1654/2001 [17:26<03:31,  1.64it/s]"
          ],
          "name": "stderr"
        }
      ]
    },
    {
      "cell_type": "code",
      "metadata": {
        "id": "rt-gtPujyCW7"
      },
      "source": [
        "df = pd.DataFrame({'image':images, 'height (cm)': heights, 'weight (kg)': weights})\r\n",
        "df.head()"
      ],
      "execution_count": null,
      "outputs": []
    },
    {
      "cell_type": "code",
      "metadata": {
        "colab": {
          "base_uri": "https://localhost:8080/"
        },
        "id": "JhqS-QFzyOkz",
        "outputId": "dbdf3772-c5e4-4e11-c081-9b9cd4caf499"
      },
      "source": [
        "images_path = os.path.join(output_dir, 'images')\r\n",
        "if not os.path.exists(images_path):\r\n",
        "    os.makedirs(images_path)\r\n",
        "\r\n",
        "for image in tqdm(df['image']):\r\n",
        "    response = requests.get(image)\r\n",
        "\r\n",
        "    file = open(os.path.join(output_dir, 'images',image.split('/')[-1].split('_')[0]+ '.jpg'), \"wb\")\r\n",
        "    file.write(response.content)\r\n",
        "    file.close()"
      ],
      "execution_count": 9,
      "outputs": [
        {
          "output_type": "stream",
          "text": [
            "100%|██████████| 1973/1973 [02:23<00:00, 13.72it/s]\n"
          ],
          "name": "stderr"
        }
      ]
    },
    {
      "cell_type": "code",
      "metadata": {
        "id": "hRkm_UgYyRjJ"
      },
      "source": [
        "df['image'] = df['image'].apply(lambda x: x.split('/')[-1].split('_')[0] + '.jpg')"
      ],
      "execution_count": 10,
      "outputs": []
    },
    {
      "cell_type": "code",
      "metadata": {
        "id": "xvzZJb8eyTys"
      },
      "source": [
        "with open(os.path.join('.', 'list_images.txt')) as f:\r\n",
        "    list_images = f.read().splitlines()"
      ],
      "execution_count": 11,
      "outputs": []
    },
    {
      "cell_type": "code",
      "metadata": {
        "id": "mNsJfct6yV3_"
      },
      "source": [
        "df = df[df['image'].isin(list_images)]\r\n",
        "df = df.reset_index(drop=True)\r\n",
        "df.to_csv(os.path.join(output_dir, 'df.csv'), index=False)"
      ],
      "execution_count": 12,
      "outputs": []
    },
    {
      "cell_type": "code",
      "metadata": {
        "id": "EX7hDpqYyXyS"
      },
      "source": [
        "df = pd.read_csv(os.path.join(output_dir, 'df.csv'))"
      ],
      "execution_count": 13,
      "outputs": []
    },
    {
      "cell_type": "code",
      "metadata": {
        "colab": {
          "base_uri": "https://localhost:8080/",
          "height": 203
        },
        "id": "IpbqDyMb0Xxr",
        "outputId": "48a5c82d-c7f5-4175-de03-e0d08dfcf8f5"
      },
      "source": [
        "df['BMI'] = df['weight (kg)'] / (df['height (cm)'] /100)**2\r\n",
        "df.head()"
      ],
      "execution_count": 16,
      "outputs": [
        {
          "output_type": "execute_result",
          "data": {
            "text/html": [
              "<div>\n",
              "<style scoped>\n",
              "    .dataframe tbody tr th:only-of-type {\n",
              "        vertical-align: middle;\n",
              "    }\n",
              "\n",
              "    .dataframe tbody tr th {\n",
              "        vertical-align: top;\n",
              "    }\n",
              "\n",
              "    .dataframe thead th {\n",
              "        text-align: right;\n",
              "    }\n",
              "</style>\n",
              "<table border=\"1\" class=\"dataframe\">\n",
              "  <thead>\n",
              "    <tr style=\"text-align: right;\">\n",
              "      <th></th>\n",
              "      <th>image</th>\n",
              "      <th>height (cm)</th>\n",
              "      <th>weight (kg)</th>\n",
              "      <th>BMI</th>\n",
              "    </tr>\n",
              "  </thead>\n",
              "  <tbody>\n",
              "    <tr>\n",
              "      <th>0</th>\n",
              "      <td>1491379716.jpg</td>\n",
              "      <td>167.0</td>\n",
              "      <td>66.0</td>\n",
              "      <td>23.665244</td>\n",
              "    </tr>\n",
              "    <tr>\n",
              "      <th>1</th>\n",
              "      <td>1533303278.jpg</td>\n",
              "      <td>163.0</td>\n",
              "      <td>58.0</td>\n",
              "      <td>21.829952</td>\n",
              "    </tr>\n",
              "    <tr>\n",
              "      <th>2</th>\n",
              "      <td>1533305289.jpg</td>\n",
              "      <td>166.0</td>\n",
              "      <td>56.0</td>\n",
              "      <td>20.322253</td>\n",
              "    </tr>\n",
              "    <tr>\n",
              "      <th>3</th>\n",
              "      <td>1533306129.jpg</td>\n",
              "      <td>168.0</td>\n",
              "      <td>54.0</td>\n",
              "      <td>19.132653</td>\n",
              "    </tr>\n",
              "    <tr>\n",
              "      <th>4</th>\n",
              "      <td>1533306989.jpg</td>\n",
              "      <td>180.3</td>\n",
              "      <td>84.0</td>\n",
              "      <td>25.839722</td>\n",
              "    </tr>\n",
              "  </tbody>\n",
              "</table>\n",
              "</div>"
            ],
            "text/plain": [
              "            image  height (cm)  weight (kg)        BMI\n",
              "0  1491379716.jpg        167.0         66.0  23.665244\n",
              "1  1533303278.jpg        163.0         58.0  21.829952\n",
              "2  1533305289.jpg        166.0         56.0  20.322253\n",
              "3  1533306129.jpg        168.0         54.0  19.132653\n",
              "4  1533306989.jpg        180.3         84.0  25.839722"
            ]
          },
          "metadata": {
            "tags": []
          },
          "execution_count": 16
        }
      ]
    },
    {
      "cell_type": "code",
      "metadata": {
        "colab": {
          "base_uri": "https://localhost:8080/",
          "height": 281
        },
        "id": "P38z9TEw0cGP",
        "outputId": "3281526d-0717-4913-a81c-6d1ce927bfd8"
      },
      "source": [
        "df[['BMI']].hist(bins=60)\r\n",
        "plt.show()"
      ],
      "execution_count": 17,
      "outputs": [
        {
          "output_type": "display_data",
          "data": {
            "image/png": "[encoded data removed]",
            "text/plain": [
              "<Figure size 432x288 with 1 Axes>"
            ]
          },
          "metadata": {
            "tags": [],
            "needs_background": "light"
          }
        }
      ]
    },
    {
      "cell_type": "code",
      "metadata": {
        "id": "Pa8RJIVK17Pt"
      },
      "source": [
        "def bmi_classification(bmi):\r\n",
        "    if bmi < 18.5:\r\n",
        "        return 'underweight'\r\n",
        "    elif (bmi >= 18.5) and (bmi < 25):\r\n",
        "        return 'normal'\r\n",
        "    elif (bmi >= 25) and (bmi < 30):\r\n",
        "        return 'overweight'\r\n",
        "    elif (bmi >= 30) and (bmi < 35):\r\n",
        "        return 'moderately obese'\r\n",
        "    elif (bmi >= 35) and (bmi < 40):\r\n",
        "        return 'severely obese'\r\n",
        "    else:\r\n",
        "        return 'very severely obese'"
      ],
      "execution_count": 18,
      "outputs": []
    },
    {
      "cell_type": "code",
      "metadata": {
        "id": "ppr3hJzF29Xv"
      },
      "source": [
        "df['class'] = df['BMI'].apply(bmi_classification)"
      ],
      "execution_count": 19,
      "outputs": []
    },
    {
      "cell_type": "code",
      "metadata": {
        "colab": {
          "base_uri": "https://localhost:8080/"
        },
        "id": "oXNRlYHu3CMw",
        "outputId": "14a640ad-c715-4c50-83b1-636f877fcb3a"
      },
      "source": [
        "df['class'].value_counts()"
      ],
      "execution_count": 27,
      "outputs": [
        {
          "output_type": "execute_result",
          "data": {
            "text/plain": [
              "normal                 1167\n",
              "overweight              427\n",
              "underweight             152\n",
              "moderately obese         56\n",
              "very severely obese       7\n",
              "severely obese            7\n",
              "Name: class, dtype: int64"
            ]
          },
          "metadata": {
            "tags": []
          },
          "execution_count": 27
        }
      ]
    },
    {
      "cell_type": "code",
      "metadata": {
        "id": "KSaRi7GN3DTN"
      },
      "source": [
        "mtcnn = MTCNN()\r\n",
        "model = InceptionResnetV1(pretrained='vggface2', classify=False).eval()"
      ],
      "execution_count": 82,
      "outputs": []
    },
    {
      "cell_type": "code",
      "metadata": {
        "id": "I6f4egX548T8"
      },
      "source": [
        "images_features = []\r\n",
        "for img in df['image'].apply(lambda x: os.path.join(images_path, x)):\r\n",
        "    img = Image.open(img)\r\n",
        "\r\n",
        "    # Get cropped and prewhitened image tensor\r\n",
        "    img_cropped = mtcnn(img)\r\n",
        "\r\n",
        "    # Calculate embedding (unsqueeze to add batch dimension)\r\n",
        "    img_embedding = model(img_cropped.unsqueeze(0))\r\n",
        "\r\n",
        "    images_features.append(img_embedding.detach().cpu().numpy().flatten())\r\n",
        "\r\n",
        "df_new = pd.DataFrame(images_features)\r\n",
        "df_new['target'] = df['BMI']\r\n",
        "df_new.to_csv(os.path.join(output_dir, 'df_features.csv'), index=False)"
      ],
      "execution_count": 83,
      "outputs": []
    },
    {
      "cell_type": "code",
      "metadata": {
        "id": "lYvh7oxj9LxT"
      },
      "source": [
        "df_new = pd.read_csv(os.path.join(output_dir, 'df_features.csv'))"
      ],
      "execution_count": null,
      "outputs": []
    }
  ]
}